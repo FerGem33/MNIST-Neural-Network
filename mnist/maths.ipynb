{
 "cells": [
  {
   "metadata": {},
   "cell_type": "markdown",
   "source": "# Maths of the neural network",
   "id": "502ab5b2e9d1129c"
  },
  {
   "metadata": {},
   "cell_type": "markdown",
   "source": [
    "# Connections between neurons\n",
    "\n",
    "Notation: \\\n",
    "Vectors are written using bold fonts $ \\mathbf{v} $ \\\n",
    "Matrices are written on capitals $ M $ \n",
    "\n",
    "Assuming training/predicting a single sample:\n",
    "\n",
    "## Single neuron\n",
    "\n",
    "\\begin{align*}\n",
    "z &= \\mathbf{x} \\cdot \\mathbf{w} + b \\\\\n",
    "a &= \\sigma (z) \\\\\n",
    "\\end{align*}\n",
    "\n",
    "## Layer of neurons\n",
    "\n",
    "\\begin{align*}\n",
    "\\mathbf{z} &= \\mathbf{x} W + \\mathbf{b} \\\\\n",
    "\\mathbf{a} &= \\hat{\\sigma} (\\mathbf{z}) \\\\\n",
    "\\end{align*}"
   ],
   "id": "c310ba0d67b86e2d"
  },
  {
   "metadata": {},
   "cell_type": "markdown",
   "source": [
    "# Activation functions \n",
    "\n",
    "The functions used for classification are the rectified linear unit (ReLU) and normalized exponential function (softmax).\n",
    "\n",
    "## ReLU\n",
    "\n",
    "\\begin{equation*}\n",
    "\n",
    "\\hat{\\sigma} (z) = \n",
    "\\[\n",
    "\\begin{cases} \n",
    "z; & \\text{ } z > 0 \\\\\n",
    "0; & \\text{ } z \\leqslant 0\n",
    "\\end{cases}\n",
    "\\]\n",
    "\\end{equation*}\n",
    "\n",
    "## Softmax\n",
    "\n",
    "\\begin{equation*}\n",
    "\\hat{\\sigma} (z_{i}) = \\frac{e^{z_i}}{\\sum _{k=1}^{K} e^{z_k}}\n",
    "\\end{equation*}"
   ],
   "id": "e7985d242437c359"
  }
 ],
 "metadata": {
  "kernelspec": {
   "display_name": "Python 3",
   "language": "python",
   "name": "python3"
  },
  "language_info": {
   "codemirror_mode": {
    "name": "ipython",
    "version": 2
   },
   "file_extension": ".py",
   "mimetype": "text/x-python",
   "name": "python",
   "nbconvert_exporter": "python",
   "pygments_lexer": "ipython2",
   "version": "2.7.6"
  }
 },
 "nbformat": 4,
 "nbformat_minor": 5
}
